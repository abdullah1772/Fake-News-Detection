{
 "cells": [
  {
   "cell_type": "code",
   "execution_count": 1,
   "id": "d8401fed",
   "metadata": {
    "_cell_guid": "b1076dfc-b9ad-4769-8c92-a6c4dae69d19",
    "_uuid": "8f2839f25d086af736a60e9eeb907d3b93b6e0e5",
    "execution": {
     "iopub.execute_input": "2023-12-17T12:53:23.834418Z",
     "iopub.status.busy": "2023-12-17T12:53:23.833903Z",
     "iopub.status.idle": "2023-12-17T12:53:24.245544Z",
     "shell.execute_reply": "2023-12-17T12:53:24.244566Z"
    },
    "papermill": {
     "duration": 0.425286,
     "end_time": "2023-12-17T12:53:24.248449",
     "exception": false,
     "start_time": "2023-12-17T12:53:23.823163",
     "status": "completed"
    },
    "tags": []
   },
   "outputs": [
    {
     "name": "stdout",
     "output_type": "stream",
     "text": [
      "/kaggle/input/fake-news-detection/true.csv\n",
      "/kaggle/input/fake-news-detection/fake.csv\n"
     ]
    }
   ],
   "source": [
    "# This Python 3 environment comes with many helpful analytics libraries installed\n",
    "# It is defined by the kaggle/python Docker image: https://github.com/kaggle/docker-python\n",
    "# For example, here's several helpful packages to load\n",
    "\n",
    "import numpy as np # linear algebra\n",
    "import pandas as pd # data processing, CSV file I/O (e.g. pd.read_csv)\n",
    "\n",
    "# Input data files are available in the read-only \"../input/\" directory\n",
    "# For example, running this (by clicking run or pressing Shift+Enter) will list all files under the input directory\n",
    "\n",
    "import os\n",
    "for dirname, _, filenames in os.walk('/kaggle/input'):\n",
    "    for filename in filenames:\n",
    "        print(os.path.join(dirname, filename))\n",
    "\n",
    "# You can write up to 20GB to the current directory (/kaggle/working/) that gets preserved as output when you create a version using \"Save & Run All\" \n",
    "# You can also write temporary files to /kaggle/temp/, but they won't be saved outside of the current session"
   ]
  },
  {
   "cell_type": "markdown",
   "id": "b6f7b07c",
   "metadata": {
    "papermill": {
     "duration": 0.007254,
     "end_time": "2023-12-17T12:53:24.263592",
     "exception": false,
     "start_time": "2023-12-17T12:53:24.256338",
     "status": "completed"
    },
    "tags": []
   },
   "source": [
    "# Load the dataset"
   ]
  },
  {
   "cell_type": "code",
   "execution_count": 2,
   "id": "8893780b",
   "metadata": {
    "execution": {
     "iopub.execute_input": "2023-12-17T12:53:24.280812Z",
     "iopub.status.busy": "2023-12-17T12:53:24.280321Z",
     "iopub.status.idle": "2023-12-17T12:53:25.699463Z",
     "shell.execute_reply": "2023-12-17T12:53:25.698598Z"
    },
    "papermill": {
     "duration": 1.430656,
     "end_time": "2023-12-17T12:53:25.702011",
     "exception": false,
     "start_time": "2023-12-17T12:53:24.271355",
     "status": "completed"
    },
    "tags": []
   },
   "outputs": [],
   "source": [
    "true = pd.read_csv('/kaggle/input/fake-news-detection/true.csv')"
   ]
  },
  {
   "cell_type": "code",
   "execution_count": 3,
   "id": "758bdb46",
   "metadata": {
    "execution": {
     "iopub.execute_input": "2023-12-17T12:53:25.719455Z",
     "iopub.status.busy": "2023-12-17T12:53:25.718657Z",
     "iopub.status.idle": "2023-12-17T12:53:25.740205Z",
     "shell.execute_reply": "2023-12-17T12:53:25.739202Z"
    },
    "papermill": {
     "duration": 0.033353,
     "end_time": "2023-12-17T12:53:25.743020",
     "exception": false,
     "start_time": "2023-12-17T12:53:25.709667",
     "status": "completed"
    },
    "tags": []
   },
   "outputs": [
    {
     "data": {
      "text/html": [
       "<div>\n",
       "<style scoped>\n",
       "    .dataframe tbody tr th:only-of-type {\n",
       "        vertical-align: middle;\n",
       "    }\n",
       "\n",
       "    .dataframe tbody tr th {\n",
       "        vertical-align: top;\n",
       "    }\n",
       "\n",
       "    .dataframe thead th {\n",
       "        text-align: right;\n",
       "    }\n",
       "</style>\n",
       "<table border=\"1\" class=\"dataframe\">\n",
       "  <thead>\n",
       "    <tr style=\"text-align: right;\">\n",
       "      <th></th>\n",
       "      <th>title</th>\n",
       "      <th>text</th>\n",
       "      <th>subject</th>\n",
       "      <th>date</th>\n",
       "    </tr>\n",
       "  </thead>\n",
       "  <tbody>\n",
       "    <tr>\n",
       "      <th>0</th>\n",
       "      <td>As U.S. budget fight looms, Republicans flip t...</td>\n",
       "      <td>WASHINGTON (Reuters) - The head of a conservat...</td>\n",
       "      <td>politicsNews</td>\n",
       "      <td>December 31, 2017</td>\n",
       "    </tr>\n",
       "    <tr>\n",
       "      <th>1</th>\n",
       "      <td>U.S. military to accept transgender recruits o...</td>\n",
       "      <td>WASHINGTON (Reuters) - Transgender people will...</td>\n",
       "      <td>politicsNews</td>\n",
       "      <td>December 29, 2017</td>\n",
       "    </tr>\n",
       "    <tr>\n",
       "      <th>2</th>\n",
       "      <td>Senior U.S. Republican senator: 'Let Mr. Muell...</td>\n",
       "      <td>WASHINGTON (Reuters) - The special counsel inv...</td>\n",
       "      <td>politicsNews</td>\n",
       "      <td>December 31, 2017</td>\n",
       "    </tr>\n",
       "    <tr>\n",
       "      <th>3</th>\n",
       "      <td>FBI Russia probe helped by Australian diplomat...</td>\n",
       "      <td>WASHINGTON (Reuters) - Trump campaign adviser ...</td>\n",
       "      <td>politicsNews</td>\n",
       "      <td>December 30, 2017</td>\n",
       "    </tr>\n",
       "    <tr>\n",
       "      <th>4</th>\n",
       "      <td>Trump wants Postal Service to charge 'much mor...</td>\n",
       "      <td>SEATTLE/WASHINGTON (Reuters) - President Donal...</td>\n",
       "      <td>politicsNews</td>\n",
       "      <td>December 29, 2017</td>\n",
       "    </tr>\n",
       "  </tbody>\n",
       "</table>\n",
       "</div>"
      ],
      "text/plain": [
       "                                               title  \\\n",
       "0  As U.S. budget fight looms, Republicans flip t...   \n",
       "1  U.S. military to accept transgender recruits o...   \n",
       "2  Senior U.S. Republican senator: 'Let Mr. Muell...   \n",
       "3  FBI Russia probe helped by Australian diplomat...   \n",
       "4  Trump wants Postal Service to charge 'much mor...   \n",
       "\n",
       "                                                text       subject  \\\n",
       "0  WASHINGTON (Reuters) - The head of a conservat...  politicsNews   \n",
       "1  WASHINGTON (Reuters) - Transgender people will...  politicsNews   \n",
       "2  WASHINGTON (Reuters) - The special counsel inv...  politicsNews   \n",
       "3  WASHINGTON (Reuters) - Trump campaign adviser ...  politicsNews   \n",
       "4  SEATTLE/WASHINGTON (Reuters) - President Donal...  politicsNews   \n",
       "\n",
       "                 date  \n",
       "0  December 31, 2017   \n",
       "1  December 29, 2017   \n",
       "2  December 31, 2017   \n",
       "3  December 30, 2017   \n",
       "4  December 29, 2017   "
      ]
     },
     "execution_count": 3,
     "metadata": {},
     "output_type": "execute_result"
    }
   ],
   "source": [
    "true.head()"
   ]
  },
  {
   "cell_type": "code",
   "execution_count": 4,
   "id": "e7316582",
   "metadata": {
    "execution": {
     "iopub.execute_input": "2023-12-17T12:53:25.761282Z",
     "iopub.status.busy": "2023-12-17T12:53:25.760272Z",
     "iopub.status.idle": "2023-12-17T12:53:25.767232Z",
     "shell.execute_reply": "2023-12-17T12:53:25.766254Z"
    },
    "papermill": {
     "duration": 0.02048,
     "end_time": "2023-12-17T12:53:25.771476",
     "exception": false,
     "start_time": "2023-12-17T12:53:25.750996",
     "status": "completed"
    },
    "tags": []
   },
   "outputs": [
    {
     "data": {
      "text/plain": [
       "(21417, 4)"
      ]
     },
     "execution_count": 4,
     "metadata": {},
     "output_type": "execute_result"
    }
   ],
   "source": [
    "true.shape"
   ]
  },
  {
   "cell_type": "code",
   "execution_count": 5,
   "id": "964ce0af",
   "metadata": {
    "execution": {
     "iopub.execute_input": "2023-12-17T12:53:25.789165Z",
     "iopub.status.busy": "2023-12-17T12:53:25.788738Z",
     "iopub.status.idle": "2023-12-17T12:53:27.136436Z",
     "shell.execute_reply": "2023-12-17T12:53:27.135329Z"
    },
    "papermill": {
     "duration": 1.359983,
     "end_time": "2023-12-17T12:53:27.139404",
     "exception": false,
     "start_time": "2023-12-17T12:53:25.779421",
     "status": "completed"
    },
    "tags": []
   },
   "outputs": [],
   "source": [
    "fake = pd.read_csv('/kaggle/input/fake-news-detection/fake.csv')"
   ]
  },
  {
   "cell_type": "code",
   "execution_count": 6,
   "id": "c576dca4",
   "metadata": {
    "execution": {
     "iopub.execute_input": "2023-12-17T12:53:27.157672Z",
     "iopub.status.busy": "2023-12-17T12:53:27.157249Z",
     "iopub.status.idle": "2023-12-17T12:53:27.165148Z",
     "shell.execute_reply": "2023-12-17T12:53:27.164063Z"
    },
    "papermill": {
     "duration": 0.020207,
     "end_time": "2023-12-17T12:53:27.167465",
     "exception": false,
     "start_time": "2023-12-17T12:53:27.147258",
     "status": "completed"
    },
    "tags": []
   },
   "outputs": [
    {
     "data": {
      "text/plain": [
       "(23481, 4)"
      ]
     },
     "execution_count": 6,
     "metadata": {},
     "output_type": "execute_result"
    }
   ],
   "source": [
    "fake.shape"
   ]
  },
  {
   "cell_type": "code",
   "execution_count": 7,
   "id": "7384b149",
   "metadata": {
    "execution": {
     "iopub.execute_input": "2023-12-17T12:53:27.185047Z",
     "iopub.status.busy": "2023-12-17T12:53:27.184628Z",
     "iopub.status.idle": "2023-12-17T12:53:27.192234Z",
     "shell.execute_reply": "2023-12-17T12:53:27.191216Z"
    },
    "papermill": {
     "duration": 0.019028,
     "end_time": "2023-12-17T12:53:27.194515",
     "exception": false,
     "start_time": "2023-12-17T12:53:27.175487",
     "status": "completed"
    },
    "tags": []
   },
   "outputs": [],
   "source": [
    "true['label'] = 1\n",
    "fake['label'] = 0"
   ]
  },
  {
   "cell_type": "code",
   "execution_count": 8,
   "id": "cfd76318",
   "metadata": {
    "execution": {
     "iopub.execute_input": "2023-12-17T12:53:27.213466Z",
     "iopub.status.busy": "2023-12-17T12:53:27.212531Z",
     "iopub.status.idle": "2023-12-17T12:53:27.218174Z",
     "shell.execute_reply": "2023-12-17T12:53:27.217379Z"
    },
    "papermill": {
     "duration": 0.017007,
     "end_time": "2023-12-17T12:53:27.220255",
     "exception": false,
     "start_time": "2023-12-17T12:53:27.203248",
     "status": "completed"
    },
    "tags": []
   },
   "outputs": [],
   "source": [
    "# Use the the first 5000 data of true and fake dataset for building the model.\n",
    "frames = [true.loc[:5000][:], fake.loc[:5000][:]]"
   ]
  },
  {
   "cell_type": "code",
   "execution_count": 9,
   "id": "e93749b5",
   "metadata": {
    "execution": {
     "iopub.execute_input": "2023-12-17T12:53:27.238151Z",
     "iopub.status.busy": "2023-12-17T12:53:27.237376Z",
     "iopub.status.idle": "2023-12-17T12:53:27.245308Z",
     "shell.execute_reply": "2023-12-17T12:53:27.244212Z"
    },
    "papermill": {
     "duration": 0.019762,
     "end_time": "2023-12-17T12:53:27.247949",
     "exception": false,
     "start_time": "2023-12-17T12:53:27.228187",
     "status": "completed"
    },
    "tags": []
   },
   "outputs": [],
   "source": [
    "df = pd.concat(frames)"
   ]
  },
  {
   "cell_type": "code",
   "execution_count": 10,
   "id": "4a613fc9",
   "metadata": {
    "execution": {
     "iopub.execute_input": "2023-12-17T12:53:27.265837Z",
     "iopub.status.busy": "2023-12-17T12:53:27.265371Z",
     "iopub.status.idle": "2023-12-17T12:53:27.277740Z",
     "shell.execute_reply": "2023-12-17T12:53:27.276337Z"
    },
    "papermill": {
     "duration": 0.024591,
     "end_time": "2023-12-17T12:53:27.280711",
     "exception": false,
     "start_time": "2023-12-17T12:53:27.256120",
     "status": "completed"
    },
    "tags": []
   },
   "outputs": [
    {
     "data": {
      "text/plain": [
       "(10002, 5)"
      ]
     },
     "execution_count": 10,
     "metadata": {},
     "output_type": "execute_result"
    }
   ],
   "source": [
    "df.shape"
   ]
  },
  {
   "cell_type": "code",
   "execution_count": 11,
   "id": "5b895334",
   "metadata": {
    "execution": {
     "iopub.execute_input": "2023-12-17T12:53:27.299975Z",
     "iopub.status.busy": "2023-12-17T12:53:27.299014Z",
     "iopub.status.idle": "2023-12-17T12:53:27.308698Z",
     "shell.execute_reply": "2023-12-17T12:53:27.307790Z"
    },
    "papermill": {
     "duration": 0.022486,
     "end_time": "2023-12-17T12:53:27.311344",
     "exception": false,
     "start_time": "2023-12-17T12:53:27.288858",
     "status": "completed"
    },
    "tags": []
   },
   "outputs": [],
   "source": [
    "X = df. drop('label', axis=1)\n",
    "y = df['label']"
   ]
  },
  {
   "cell_type": "code",
   "execution_count": 12,
   "id": "988f1bab",
   "metadata": {
    "execution": {
     "iopub.execute_input": "2023-12-17T12:53:27.329511Z",
     "iopub.status.busy": "2023-12-17T12:53:27.329125Z",
     "iopub.status.idle": "2023-12-17T12:53:27.341005Z",
     "shell.execute_reply": "2023-12-17T12:53:27.339894Z"
    },
    "papermill": {
     "duration": 0.024116,
     "end_time": "2023-12-17T12:53:27.343572",
     "exception": false,
     "start_time": "2023-12-17T12:53:27.319456",
     "status": "completed"
    },
    "tags": []
   },
   "outputs": [],
   "source": [
    "df = df.dropna()\n",
    "df2 = df.copy()"
   ]
  },
  {
   "cell_type": "code",
   "execution_count": 13,
   "id": "aaf4b4f5",
   "metadata": {
    "execution": {
     "iopub.execute_input": "2023-12-17T12:53:27.362451Z",
     "iopub.status.busy": "2023-12-17T12:53:27.362036Z",
     "iopub.status.idle": "2023-12-17T12:53:27.376727Z",
     "shell.execute_reply": "2023-12-17T12:53:27.375533Z"
    },
    "papermill": {
     "duration": 0.027184,
     "end_time": "2023-12-17T12:53:27.379142",
     "exception": false,
     "start_time": "2023-12-17T12:53:27.351958",
     "status": "completed"
    },
    "tags": []
   },
   "outputs": [
    {
     "data": {
      "text/html": [
       "<div>\n",
       "<style scoped>\n",
       "    .dataframe tbody tr th:only-of-type {\n",
       "        vertical-align: middle;\n",
       "    }\n",
       "\n",
       "    .dataframe tbody tr th {\n",
       "        vertical-align: top;\n",
       "    }\n",
       "\n",
       "    .dataframe thead th {\n",
       "        text-align: right;\n",
       "    }\n",
       "</style>\n",
       "<table border=\"1\" class=\"dataframe\">\n",
       "  <thead>\n",
       "    <tr style=\"text-align: right;\">\n",
       "      <th></th>\n",
       "      <th>index</th>\n",
       "      <th>title</th>\n",
       "      <th>text</th>\n",
       "      <th>subject</th>\n",
       "      <th>date</th>\n",
       "      <th>label</th>\n",
       "    </tr>\n",
       "  </thead>\n",
       "  <tbody>\n",
       "    <tr>\n",
       "      <th>0</th>\n",
       "      <td>0</td>\n",
       "      <td>As U.S. budget fight looms, Republicans flip t...</td>\n",
       "      <td>WASHINGTON (Reuters) - The head of a conservat...</td>\n",
       "      <td>politicsNews</td>\n",
       "      <td>December 31, 2017</td>\n",
       "      <td>1</td>\n",
       "    </tr>\n",
       "    <tr>\n",
       "      <th>1</th>\n",
       "      <td>1</td>\n",
       "      <td>U.S. military to accept transgender recruits o...</td>\n",
       "      <td>WASHINGTON (Reuters) - Transgender people will...</td>\n",
       "      <td>politicsNews</td>\n",
       "      <td>December 29, 2017</td>\n",
       "      <td>1</td>\n",
       "    </tr>\n",
       "    <tr>\n",
       "      <th>2</th>\n",
       "      <td>2</td>\n",
       "      <td>Senior U.S. Republican senator: 'Let Mr. Muell...</td>\n",
       "      <td>WASHINGTON (Reuters) - The special counsel inv...</td>\n",
       "      <td>politicsNews</td>\n",
       "      <td>December 31, 2017</td>\n",
       "      <td>1</td>\n",
       "    </tr>\n",
       "    <tr>\n",
       "      <th>3</th>\n",
       "      <td>3</td>\n",
       "      <td>FBI Russia probe helped by Australian diplomat...</td>\n",
       "      <td>WASHINGTON (Reuters) - Trump campaign adviser ...</td>\n",
       "      <td>politicsNews</td>\n",
       "      <td>December 30, 2017</td>\n",
       "      <td>1</td>\n",
       "    </tr>\n",
       "    <tr>\n",
       "      <th>4</th>\n",
       "      <td>4</td>\n",
       "      <td>Trump wants Postal Service to charge 'much mor...</td>\n",
       "      <td>SEATTLE/WASHINGTON (Reuters) - President Donal...</td>\n",
       "      <td>politicsNews</td>\n",
       "      <td>December 29, 2017</td>\n",
       "      <td>1</td>\n",
       "    </tr>\n",
       "  </tbody>\n",
       "</table>\n",
       "</div>"
      ],
      "text/plain": [
       "   index                                              title  \\\n",
       "0      0  As U.S. budget fight looms, Republicans flip t...   \n",
       "1      1  U.S. military to accept transgender recruits o...   \n",
       "2      2  Senior U.S. Republican senator: 'Let Mr. Muell...   \n",
       "3      3  FBI Russia probe helped by Australian diplomat...   \n",
       "4      4  Trump wants Postal Service to charge 'much mor...   \n",
       "\n",
       "                                                text       subject  \\\n",
       "0  WASHINGTON (Reuters) - The head of a conservat...  politicsNews   \n",
       "1  WASHINGTON (Reuters) - Transgender people will...  politicsNews   \n",
       "2  WASHINGTON (Reuters) - The special counsel inv...  politicsNews   \n",
       "3  WASHINGTON (Reuters) - Trump campaign adviser ...  politicsNews   \n",
       "4  SEATTLE/WASHINGTON (Reuters) - President Donal...  politicsNews   \n",
       "\n",
       "                 date  label  \n",
       "0  December 31, 2017       1  \n",
       "1  December 29, 2017       1  \n",
       "2  December 31, 2017       1  \n",
       "3  December 30, 2017       1  \n",
       "4  December 29, 2017       1  "
      ]
     },
     "execution_count": 13,
     "metadata": {},
     "output_type": "execute_result"
    }
   ],
   "source": [
    "df2.reset_index(inplace=True)\n",
    "df2.head()"
   ]
  },
  {
   "cell_type": "markdown",
   "id": "0d76429b",
   "metadata": {
    "papermill": {
     "duration": 0.008321,
     "end_time": "2023-12-17T12:53:27.396148",
     "exception": false,
     "start_time": "2023-12-17T12:53:27.387827",
     "status": "completed"
    },
    "tags": []
   },
   "source": [
    "# Data Preprocessing"
   ]
  },
  {
   "cell_type": "code",
   "execution_count": 14,
   "id": "8c56d02f",
   "metadata": {
    "execution": {
     "iopub.execute_input": "2023-12-17T12:53:27.415207Z",
     "iopub.status.busy": "2023-12-17T12:53:27.414782Z",
     "iopub.status.idle": "2023-12-17T12:53:29.217178Z",
     "shell.execute_reply": "2023-12-17T12:53:29.216100Z"
    },
    "papermill": {
     "duration": 1.815415,
     "end_time": "2023-12-17T12:53:29.219985",
     "exception": false,
     "start_time": "2023-12-17T12:53:27.404570",
     "status": "completed"
    },
    "tags": []
   },
   "outputs": [],
   "source": [
    "from nltk.corpus import stopwords\n",
    "from nltk.stem.porter import PorterStemmer\n",
    "ps = PorterStemmer()"
   ]
  },
  {
   "cell_type": "code",
   "execution_count": 15,
   "id": "8113a5fe",
   "metadata": {
    "execution": {
     "iopub.execute_input": "2023-12-17T12:53:29.241353Z",
     "iopub.status.busy": "2023-12-17T12:53:29.240932Z",
     "iopub.status.idle": "2023-12-17T13:03:30.066143Z",
     "shell.execute_reply": "2023-12-17T13:03:30.064384Z"
    },
    "papermill": {
     "duration": 600.839359,
     "end_time": "2023-12-17T13:03:30.069374",
     "exception": false,
     "start_time": "2023-12-17T12:53:29.230015",
     "status": "completed"
    },
    "tags": []
   },
   "outputs": [
    {
     "name": "stdout",
     "output_type": "stream",
     "text": [
      "[nltk_data] Downloading package stopwords to /usr/share/nltk_data...\n",
      "[nltk_data]   Package stopwords is already up-to-date!\n"
     ]
    }
   ],
   "source": [
    "import re\n",
    "import nltk\n",
    "nltk.download('stopwords')\n",
    "\n",
    "corpus = []\n",
    "for i in range(0, len(df2)):\n",
    "    review = re.sub('[^a-zA-Z]', ' ', df2['text'][i])\n",
    "    review = review.lower()\n",
    "    review = review.split()\n",
    "    \n",
    "    review = [ps.stem(word) for word in review if not word in stopwords.words('english')]\n",
    "    review = ' '.join(review)\n",
    "    corpus.append(review)"
   ]
  },
  {
   "cell_type": "code",
   "execution_count": 16,
   "id": "db2b66b0",
   "metadata": {
    "execution": {
     "iopub.execute_input": "2023-12-17T13:03:30.089697Z",
     "iopub.status.busy": "2023-12-17T13:03:30.089263Z",
     "iopub.status.idle": "2023-12-17T13:03:30.095390Z",
     "shell.execute_reply": "2023-12-17T13:03:30.093843Z"
    },
    "papermill": {
     "duration": 0.019477,
     "end_time": "2023-12-17T13:03:30.098182",
     "exception": false,
     "start_time": "2023-12-17T13:03:30.078705",
     "status": "completed"
    },
    "tags": []
   },
   "outputs": [],
   "source": [
    "# TFidf Vectorizer\n",
    "from sklearn.feature_extraction.text import TfidfVectorizer\n",
    "tfidf_v = TfidfVectorizer(max_features=5000, ngram_range=(1,3))"
   ]
  },
  {
   "cell_type": "code",
   "execution_count": 17,
   "id": "dac51c01",
   "metadata": {
    "execution": {
     "iopub.execute_input": "2023-12-17T13:03:30.117022Z",
     "iopub.status.busy": "2023-12-17T13:03:30.116595Z",
     "iopub.status.idle": "2023-12-17T13:03:54.688351Z",
     "shell.execute_reply": "2023-12-17T13:03:54.686576Z"
    },
    "papermill": {
     "duration": 24.584874,
     "end_time": "2023-12-17T13:03:54.691851",
     "exception": false,
     "start_time": "2023-12-17T13:03:30.106977",
     "status": "completed"
    },
    "tags": []
   },
   "outputs": [],
   "source": [
    "X = tfidf_v.fit_transform(corpus).toarray()\n",
    "y = df2['label']"
   ]
  },
  {
   "cell_type": "code",
   "execution_count": 18,
   "id": "2a6f25f7",
   "metadata": {
    "execution": {
     "iopub.execute_input": "2023-12-17T13:03:54.713342Z",
     "iopub.status.busy": "2023-12-17T13:03:54.712845Z",
     "iopub.status.idle": "2023-12-17T13:03:54.913562Z",
     "shell.execute_reply": "2023-12-17T13:03:54.912227Z"
    },
    "papermill": {
     "duration": 0.214233,
     "end_time": "2023-12-17T13:03:54.916334",
     "exception": false,
     "start_time": "2023-12-17T13:03:54.702101",
     "status": "completed"
    },
    "tags": []
   },
   "outputs": [],
   "source": [
    "# Divide the dataset into Train and Test\n",
    "from sklearn.model_selection import train_test_split\n",
    "X_train, X_test, y_train, y_test = train_test_split(X, y, test_size=0.2, random_state=0)"
   ]
  },
  {
   "cell_type": "markdown",
   "id": "276463f3",
   "metadata": {
    "papermill": {
     "duration": 0.008349,
     "end_time": "2023-12-17T13:03:54.934684",
     "exception": false,
     "start_time": "2023-12-17T13:03:54.926335",
     "status": "completed"
    },
    "tags": []
   },
   "source": [
    "# Model building - Passive Aggresive Classifier"
   ]
  },
  {
   "cell_type": "code",
   "execution_count": 19,
   "id": "d004142e",
   "metadata": {
    "execution": {
     "iopub.execute_input": "2023-12-17T13:03:54.955907Z",
     "iopub.status.busy": "2023-12-17T13:03:54.955451Z",
     "iopub.status.idle": "2023-12-17T13:03:54.961621Z",
     "shell.execute_reply": "2023-12-17T13:03:54.960342Z"
    },
    "papermill": {
     "duration": 0.020089,
     "end_time": "2023-12-17T13:03:54.964657",
     "exception": false,
     "start_time": "2023-12-17T13:03:54.944568",
     "status": "completed"
    },
    "tags": []
   },
   "outputs": [],
   "source": [
    "from sklearn.linear_model import PassiveAggressiveClassifier\n",
    "classifier = PassiveAggressiveClassifier(max_iter=1000)"
   ]
  },
  {
   "cell_type": "code",
   "execution_count": 20,
   "id": "4225a0d2",
   "metadata": {
    "execution": {
     "iopub.execute_input": "2023-12-17T13:03:55.059799Z",
     "iopub.status.busy": "2023-12-17T13:03:55.059331Z",
     "iopub.status.idle": "2023-12-17T13:03:56.349464Z",
     "shell.execute_reply": "2023-12-17T13:03:56.348517Z"
    },
    "papermill": {
     "duration": 1.38032,
     "end_time": "2023-12-17T13:03:56.353667",
     "exception": false,
     "start_time": "2023-12-17T13:03:54.973347",
     "status": "completed"
    },
    "tags": []
   },
   "outputs": [
    {
     "name": "stdout",
     "output_type": "stream",
     "text": [
      "accuracy:   0.998\n"
     ]
    }
   ],
   "source": [
    "from sklearn import metrics\n",
    "import numpy as np\n",
    "import itertools\n",
    "\n",
    "classifier.fit(X_train, y_train)\n",
    "\n",
    "pred = classifier.predict(X_test)\n",
    "\n",
    "score = metrics.accuracy_score(y_test, pred)\n",
    "print(\"accuracy:   %0.3f\" % score)"
   ]
  },
  {
   "cell_type": "code",
   "execution_count": 21,
   "id": "d087d370",
   "metadata": {
    "execution": {
     "iopub.execute_input": "2023-12-17T13:03:56.404688Z",
     "iopub.status.busy": "2023-12-17T13:03:56.404043Z",
     "iopub.status.idle": "2023-12-17T13:03:56.418208Z",
     "shell.execute_reply": "2023-12-17T13:03:56.416968Z"
    },
    "papermill": {
     "duration": 0.037822,
     "end_time": "2023-12-17T13:03:56.421456",
     "exception": false,
     "start_time": "2023-12-17T13:03:56.383634",
     "status": "completed"
    },
    "tags": []
   },
   "outputs": [],
   "source": [
    "import matplotlib.pyplot as plt\n",
    "\n",
    "def plot_confusion_matrix(cm, classes,normalize=False,title='Confusion matrix',cmap=plt.cm.Blues):\n",
    "    plt.imshow(cm, interpolation='nearest', cmap=cmap)\n",
    "    plt.title(title)\n",
    "    plt.colorbar()\n",
    "    tick_marks = np.arange(len(classes))\n",
    "    plt.xticks(tick_marks, classes, rotation=45)\n",
    "    plt.yticks(tick_marks, classes)\n",
    "\n",
    "    if normalize:\n",
    "        cm = cm.astype('float') / cm.sum(axis=1)[:, np.newaxis]\n",
    "        print(\"Normalized confusion matrix\")\n",
    "    else:\n",
    "        print('Confusion matrix, without normalization')\n",
    "\n",
    "    thresh = cm.max() / 2.\n",
    "    for i, j in itertools.product(range(cm.shape[0]), range(cm.shape[1])):\n",
    "        plt.text(j, i, cm[i, j],\n",
    "                 horizontalalignment=\"center\",\n",
    "                 color=\"white\" if cm[i, j] > thresh else \"black\")\n",
    "\n",
    "    plt.tight_layout()\n",
    "    plt.ylabel('True label')\n",
    "    plt.xlabel('Predicted label')"
   ]
  },
  {
   "cell_type": "code",
   "execution_count": 22,
   "id": "e7acaf00",
   "metadata": {
    "execution": {
     "iopub.execute_input": "2023-12-17T13:03:56.457735Z",
     "iopub.status.busy": "2023-12-17T13:03:56.457143Z",
     "iopub.status.idle": "2023-12-17T13:03:56.847934Z",
     "shell.execute_reply": "2023-12-17T13:03:56.846710Z"
    },
    "papermill": {
     "duration": 0.411981,
     "end_time": "2023-12-17T13:03:56.850602",
     "exception": false,
     "start_time": "2023-12-17T13:03:56.438621",
     "status": "completed"
    },
    "tags": []
   },
   "outputs": [
    {
     "name": "stdout",
     "output_type": "stream",
     "text": [
      "Confusion matrix, without normalization\n"
     ]
    },
    {
     "data": {
      "image/png": "[encoded data removed]",
      "text/plain": [
       "<Figure size 640x480 with 2 Axes>"
      ]
     },
     "metadata": {},
     "output_type": "display_data"
    }
   ],
   "source": [
    "cm = metrics.confusion_matrix(y_test, pred)\n",
    "plot_confusion_matrix(cm, classes=['FAKE', 'REAL'])"
   ]
  },
  {
   "cell_type": "markdown",
   "id": "d3e10e67",
   "metadata": {
    "papermill": {
     "duration": 0.010506,
     "end_time": "2023-12-17T13:03:56.870779",
     "exception": false,
     "start_time": "2023-12-17T13:03:56.860273",
     "status": "completed"
    },
    "tags": []
   },
   "source": [
    "# Validate on an unseen datapoint"
   ]
  },
  {
   "cell_type": "code",
   "execution_count": 23,
   "id": "21b602a8",
   "metadata": {
    "execution": {
     "iopub.execute_input": "2023-12-17T13:03:56.894087Z",
     "iopub.status.busy": "2023-12-17T13:03:56.893584Z",
     "iopub.status.idle": "2023-12-17T13:03:56.906314Z",
     "shell.execute_reply": "2023-12-17T13:03:56.904954Z"
    },
    "papermill": {
     "duration": 0.027039,
     "end_time": "2023-12-17T13:03:56.909016",
     "exception": false,
     "start_time": "2023-12-17T13:03:56.881977",
     "status": "completed"
    },
    "tags": []
   },
   "outputs": [
    {
     "data": {
      "text/plain": [
       "'mani c word hillari compet one ouch'"
      ]
     },
     "execution_count": 23,
     "metadata": {},
     "output_type": "execute_result"
    }
   ],
   "source": [
    "review = re.sub('[^a-zA-Z]', ' ', fake['text'][13070])\n",
    "review = review.lower()\n",
    "review = review.split()\n",
    "    \n",
    "review = [ps.stem(word) for word in review if not word in stopwords.words('english')]\n",
    "review = ' '.join(review)\n",
    "review"
   ]
  },
  {
   "cell_type": "code",
   "execution_count": 24,
   "id": "c7f1f20b",
   "metadata": {
    "execution": {
     "iopub.execute_input": "2023-12-17T13:03:56.930915Z",
     "iopub.status.busy": "2023-12-17T13:03:56.930434Z",
     "iopub.status.idle": "2023-12-17T13:03:56.940797Z",
     "shell.execute_reply": "2023-12-17T13:03:56.939266Z"
    },
    "papermill": {
     "duration": 0.024912,
     "end_time": "2023-12-17T13:03:56.943844",
     "exception": false,
     "start_time": "2023-12-17T13:03:56.918932",
     "status": "completed"
    },
    "tags": []
   },
   "outputs": [],
   "source": [
    "val = tfidf_v.transform([review]).toarray()"
   ]
  },
  {
   "cell_type": "code",
   "execution_count": 25,
   "id": "2852f1fb",
   "metadata": {
    "execution": {
     "iopub.execute_input": "2023-12-17T13:03:56.965075Z",
     "iopub.status.busy": "2023-12-17T13:03:56.964626Z",
     "iopub.status.idle": "2023-12-17T13:03:56.972311Z",
     "shell.execute_reply": "2023-12-17T13:03:56.971370Z"
    },
    "papermill": {
     "duration": 0.020983,
     "end_time": "2023-12-17T13:03:56.974780",
     "exception": false,
     "start_time": "2023-12-17T13:03:56.953797",
     "status": "completed"
    },
    "tags": []
   },
   "outputs": [
    {
     "data": {
      "text/plain": [
       "array([0])"
      ]
     },
     "execution_count": 25,
     "metadata": {},
     "output_type": "execute_result"
    }
   ],
   "source": [
    "classifier.predict(val)"
   ]
  },
  {
   "cell_type": "markdown",
   "id": "303ae863",
   "metadata": {
    "papermill": {
     "duration": 0.009918,
     "end_time": "2023-12-17T13:03:56.994177",
     "exception": false,
     "start_time": "2023-12-17T13:03:56.984259",
     "status": "completed"
    },
    "tags": []
   },
   "source": [
    "# Save model and vectorizer"
   ]
  },
  {
   "cell_type": "code",
   "execution_count": 26,
   "id": "5beaccce",
   "metadata": {
    "execution": {
     "iopub.execute_input": "2023-12-17T13:03:57.015759Z",
     "iopub.status.busy": "2023-12-17T13:03:57.015369Z",
     "iopub.status.idle": "2023-12-17T13:03:58.817495Z",
     "shell.execute_reply": "2023-12-17T13:03:58.816295Z"
    },
    "papermill": {
     "duration": 1.817068,
     "end_time": "2023-12-17T13:03:58.820649",
     "exception": false,
     "start_time": "2023-12-17T13:03:57.003581",
     "status": "completed"
    },
    "tags": []
   },
   "outputs": [],
   "source": [
    "import pickle\n",
    "pickle.dump(classifier, open('model2.pkl', 'wb'))\n",
    "pickle.dump(tfidf_v, open('tfidfvect2.pkl', 'wb'))"
   ]
  },
  {
   "cell_type": "markdown",
   "id": "eac5b73e",
   "metadata": {
    "papermill": {
     "duration": 0.011061,
     "end_time": "2023-12-17T13:03:58.841629",
     "exception": false,
     "start_time": "2023-12-17T13:03:58.830568",
     "status": "completed"
    },
    "tags": []
   },
   "source": [
    "# Load model and vectorizer to predict the previous datapoint"
   ]
  },
  {
   "cell_type": "code",
   "execution_count": 27,
   "id": "f901f223",
   "metadata": {
    "execution": {
     "iopub.execute_input": "2023-12-17T13:03:58.865761Z",
     "iopub.status.busy": "2023-12-17T13:03:58.864885Z",
     "iopub.status.idle": "2023-12-17T13:03:59.968291Z",
     "shell.execute_reply": "2023-12-17T13:03:59.966780Z"
    },
    "papermill": {
     "duration": 1.118674,
     "end_time": "2023-12-17T13:03:59.970993",
     "exception": false,
     "start_time": "2023-12-17T13:03:58.852319",
     "status": "completed"
    },
    "tags": []
   },
   "outputs": [
    {
     "name": "stdout",
     "output_type": "stream",
     "text": [
      "Fake News!\n"
     ]
    }
   ],
   "source": [
    "joblib_model = pickle.load(open('model2.pkl', 'rb'))\n",
    "joblib_vect = pickle.load(open('tfidfvect2.pkl', 'rb'))\n",
    "val_pkl = joblib_vect.transform([review]).toarray()\n",
    "test_pred = joblib_model.predict(val_pkl)\n",
    "\n",
    "if test_pred == 0:\n",
    "    print(\"Fake News!\")\n",
    "else:\n",
    "    print(\"Real News\")"
   ]
  },
  {
   "cell_type": "code",
   "execution_count": null,
   "id": "6ad19aba",
   "metadata": {
    "papermill": {
     "duration": 0.010187,
     "end_time": "2023-12-17T13:03:59.992408",
     "exception": false,
     "start_time": "2023-12-17T13:03:59.982221",
     "status": "completed"
    },
    "tags": []
   },
   "outputs": [],
   "source": []
  }
 ],
 "metadata": {
  "kaggle": {
   "accelerator": "none",
   "dataSources": [
    {
     "datasetId": 4180521,
     "sourceId": 7222412,
     "sourceType": "datasetVersion"
    }
   ],
   "dockerImageVersionId": 30626,
   "isGpuEnabled": false,
   "isInternetEnabled": true,
   "language": "python",
   "sourceType": "notebook"
  },
  "kernelspec": {
   "display_name": "Python 3",
   "language": "python",
   "name": "python3"
  },
  "language_info": {
   "codemirror_mode": {
    "name": "ipython",
    "version": 3
   },
   "file_extension": ".py",
   "mimetype": "text/x-python",
   "name": "python",
   "nbconvert_exporter": "python",
   "pygments_lexer": "ipython3",
   "version": "3.10.12"
  },
  "papermill": {
   "default_parameters": {},
   "duration": 641.08259,
   "end_time": "2023-12-17T13:04:01.737027",
   "environment_variables": {},
   "exception": null,
   "input_path": "__notebook__.ipynb",
   "output_path": "__notebook__.ipynb",
   "parameters": {},
   "start_time": "2023-12-17T12:53:20.654437",
   "version": "2.4.0"
  }
 },
 "nbformat": 4,
 "nbformat_minor": 5
}
